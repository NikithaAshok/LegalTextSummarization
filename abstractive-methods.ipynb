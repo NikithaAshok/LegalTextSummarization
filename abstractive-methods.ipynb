{
  "nbformat": 4,
  "nbformat_minor": 0,
  "metadata": {
    "colab": {
      "provenance": [],
      "include_colab_link": true
    },
    "kernelspec": {
      "name": "python3",
      "display_name": "Python 3"
    },
    "language_info": {
      "name": "python"
    },
    "accelerator": "TPU",
    "gpuClass": "standard"
  },
  "cells": [
    {
      "cell_type": "markdown",
      "metadata": {
        "id": "view-in-github",
        "colab_type": "text"
      },
      "source": [
        "<a href=\"https://colab.research.google.com/github/NikithaAshok/LegalTextSummarization/blob/main/abstractive-methods.ipynb\" target=\"_parent\"><img src=\"https://colab.research.google.com/assets/colab-badge.svg\" alt=\"Open In Colab\"/></a>"
      ]
    },
    {
      "cell_type": "code",
      "source": [
        "!pip install transformers\n",
        "\n",
        "!pip install PyPDF2"
      ],
      "metadata": {
        "colab": {
          "base_uri": "https://localhost:8080/"
        },
        "id": "NKN8HY-H6F7f",
        "outputId": "d4c83902-c10f-405d-d54f-3f1a70d57255"
      },
      "execution_count": null,
      "outputs": [
        {
          "output_type": "stream",
          "name": "stdout",
          "text": [
            "Looking in indexes: https://pypi.org/simple, https://us-python.pkg.dev/colab-wheels/public/simple/\n",
            "Collecting PyPDF2\n",
            "  Downloading pypdf2-3.0.1-py3-none-any.whl (232 kB)\n",
            "\u001b[2K     \u001b[90m━━━━━━━━━━━━━━━━━━━━━━━━━━━━━━━━━━━━━━━\u001b[0m \u001b[32m232.6/232.6 KB\u001b[0m \u001b[31m6.0 MB/s\u001b[0m eta \u001b[36m0:00:00\u001b[0m\n",
            "\u001b[?25hRequirement already satisfied: typing_extensions>=3.10.0.0 in /usr/local/lib/python3.8/dist-packages (from PyPDF2) (4.5.0)\n",
            "Installing collected packages: PyPDF2\n",
            "Successfully installed PyPDF2-3.0.1\n"
          ]
        }
      ]
    },
    {
      "cell_type": "code",
      "source": [
        "!pip install nltk"
      ],
      "metadata": {
        "colab": {
          "base_uri": "https://localhost:8080/"
        },
        "id": "b0MftYvN6rOY",
        "outputId": "510f00f5-e071-42db-9f4b-01f43ac0748d"
      },
      "execution_count": null,
      "outputs": [
        {
          "output_type": "stream",
          "name": "stdout",
          "text": [
            "Looking in indexes: https://pypi.org/simple, https://us-python.pkg.dev/colab-wheels/public/simple/\n",
            "Requirement already satisfied: nltk in /usr/local/lib/python3.8/dist-packages (3.7)\n",
            "Requirement already satisfied: joblib in /usr/local/lib/python3.8/dist-packages (from nltk) (1.2.0)\n",
            "Requirement already satisfied: click in /usr/local/lib/python3.8/dist-packages (from nltk) (8.1.3)\n",
            "Requirement already satisfied: tqdm in /usr/local/lib/python3.8/dist-packages (from nltk) (4.64.1)\n",
            "Requirement already satisfied: regex>=2021.8.3 in /usr/local/lib/python3.8/dist-packages (from nltk) (2022.6.2)\n"
          ]
        }
      ]
    },
    {
      "cell_type": "code",
      "source": [
        "!git clone https://github.com/NikithaAshok/LegalTextSummarization.git"
      ],
      "metadata": {
        "colab": {
          "base_uri": "https://localhost:8080/"
        },
        "id": "W-otOvEOq5df",
        "outputId": "428dd9e3-9e2b-4b5d-fc71-1005b86eeaa4"
      },
      "execution_count": 6,
      "outputs": [
        {
          "output_type": "stream",
          "name": "stdout",
          "text": [
            "Cloning into 'LegalTextSummarization'...\n",
            "remote: Enumerating objects: 6, done.\u001b[K\n",
            "remote: Counting objects: 100% (6/6), done.\u001b[K\n",
            "remote: Compressing objects: 100% (4/4), done.\u001b[K\n",
            "remote: Total 6 (delta 0), reused 0 (delta 0), pack-reused 0\u001b[K\n",
            "Unpacking objects: 100% (6/6), 4.00 KiB | 2.00 MiB/s, done.\n"
          ]
        }
      ]
    },
    {
      "cell_type": "code",
      "source": [
        "from google.colab import drive\n",
        "drive.mount('/content/drive')\n"
      ],
      "metadata": {
        "colab": {
          "base_uri": "https://localhost:8080/"
        },
        "id": "1Bb9SrpBBoY7",
        "outputId": "d6a164b3-4300-4cad-e5cc-2e59cbe34863"
      },
      "execution_count": null,
      "outputs": [
        {
          "output_type": "stream",
          "name": "stdout",
          "text": [
            "Mounted at /content/drive\n"
          ]
        }
      ]
    },
    {
      "cell_type": "code",
      "source": [
        "#T5 is an encoder-decoder model. Converts all language problems into text-to-text format.\n",
        "\n",
        "# from transformers import T5Tokenizer, T5Config, T5ForConditionalGeneration\n",
        "from transformers import BartForConditionalGeneration, BartTokenizer, BartConfig\n",
        "import transformers\n",
        "# transformers.cache.clear_cache()\n",
        "import PyPDF2\n",
        "from PyPDF2 import PdfReader\n",
        "import nltk\n",
        "nltk.download('punkt')\n",
        "from nltk.corpus import stopwords\n",
        "from nltk.tokenize import sent_tokenize\n",
        "import string\n",
        "\n",
        "#creating a pdf file object\n",
        "pdf = open(\"/content/drive/MyDrive/example.pdf\",\"rb\")\n",
        "\n",
        "#creating a pdf reader object\n",
        "pdf_reader = PyPDF2.PdfReader(pdf)\n",
        "\n",
        "#checking number of pages in a pdf file\n",
        "#print(\"Number of pages in the pdf \",len(pdf_reader.pages))\n",
        "\n",
        "nltk.download('stopwords')\n",
        "stop_words = set(stopwords.words('english'))\n",
        "\n",
        "\n",
        "#stemming tokens \n",
        "\n",
        "#function for tokenization and removing stopwords\n",
        "def remove_stop_words(text):\n",
        "    punct_removed_text = text.translate(str.maketrans('','',string.punctuation))\n",
        "    words = nltk.word_tokenize(punct_removed_text)\n",
        "    words = [word for word in words if word.lower() not in stop_words]\n",
        "    return \" \".join(words)\n",
        "\n",
        "\n",
        "#function for stemming\n",
        "def stemming(text):\n",
        "    tokens = text.split(' ')\n",
        "\n",
        "    #defining a Stemmer\n",
        "    stemmer = PorterStemmer()\n",
        "\n",
        "    #stem the tokens \n",
        "    stemmed_tokens = []\n",
        "\n",
        "\n",
        "    for token in tokens:\n",
        "        stemmed_token = stemmer.stem(token)\n",
        "        stemmed_tokens.append(stemmed_token)\n",
        "\n",
        "    #join the stemmed tokens back into a string\n",
        "    stemmed_text = ' '.join(stemmed_tokens)\n",
        "\n",
        "    return stemmed_text\n",
        "\n",
        "#T5 Model \n",
        "# t5_model = T5ForConditionalGeneration.from_pretrained('t5-base')\n",
        "# t5_tokenizer = T5Tokenizer.from_pretrained('t5-base')\n",
        "\n",
        "#BART Model\n",
        "bart_tokenizer = BartTokenizer.from_pretrained('facebook/bart-large-cnn')\n",
        "bart_model = BartForConditionalGeneration.from_pretrained('facebook/bart-large-cnn')\n",
        "\n",
        "for i in range(0,len(pdf_reader.pages)):\n",
        "    page = pdf_reader.pages[i]\n",
        "    extracted_text = page.extract_text() # extraction happens here\n",
        "    text_without_stopwords = remove_stop_words(extracted_text) #removing stopwords (function called)\n",
        "    sentences = sent_tokenize(extracted_text)\n",
        "    text = \"summarize:\" + extracted_text\n",
        "\n",
        "#     #T5 MODEL -----------\n",
        "#     #converting input sequence to input-ids through process of encoding - encode()\n",
        "#     input_ids = t5_tokenizer.encode(text,return_tensors='pt',max_length=512)\n",
        "#     #generate() method returns a sequence of ids corresponding to the summary\n",
        "#     summary_ids = t5_model.generate(input_ids)\n",
        "#     #using decode() function to generate summary text from the above ids\n",
        "#     t5_summary = t5_tokenizer.decode(summary_ids[0])\n",
        "#     print(t5_summary)\n",
        "\n",
        "    #BART MODEL ------------\n",
        "    bart_inputs = bart_tokenizer.encode(extracted_text,return_tensors='pt', max_length=1024, truncation=True)\n",
        "    bart_summary_ids = bart_model.generate(bart_inputs, num_beams=4, max_length=100, early_stopping=True)\n",
        "#     bart_summary = bart_tokenizer.decode(bart_summary_ids[0],skip_special_tokens=True)\n",
        "    bart_summary = bart_tokenizer.decode(bart_summary_ids[0],skip_special_tokens=True)\n",
        "    print('summary',bart_summary)\n"
      ],
      "metadata": {
        "colab": {
          "base_uri": "https://localhost:8080/"
        },
        "id": "laOLIejR61ga",
        "outputId": "65cf66fe-24ff-4a2a-a198-ce61754583e2"
      },
      "execution_count": null,
      "outputs": [
        {
          "output_type": "stream",
          "name": "stderr",
          "text": [
            "[nltk_data] Downloading package punkt to /root/nltk_data...\n",
            "[nltk_data]   Package punkt is already up-to-date!\n",
            "[nltk_data] Downloading package stopwords to /root/nltk_data...\n",
            "[nltk_data]   Package stopwords is already up-to-date!\n"
          ]
        },
        {
          "output_type": "stream",
          "name": "stdout",
          "text": [
            "summary Self Attention Based Legal Document Summarization- A Technical Review. The study was conducted at the Atria Institute of Technology, Bangalore. The author is Nikitha A. A. Jain, a professor of computer science at the institute. The report was published in the online edition of the ATSR.\n"
          ]
        }
      ]
    },
    {
      "cell_type": "code",
      "source": [],
      "metadata": {
        "id": "8yooNoYUffio"
      },
      "execution_count": null,
      "outputs": []
    },
    {
      "cell_type": "code",
      "source": [],
      "metadata": {
        "id": "OO8415xqffMw"
      },
      "execution_count": null,
      "outputs": []
    }
  ]
}